{
 "cells": [
  {
   "cell_type": "code",
   "execution_count": 2,
   "metadata": {},
   "outputs": [],
   "source": [
    "import numpy as np \n",
    "from sklearn.linear_model import LinearRegression\n",
    "import matplotlib.pyplot as plt\n",
    "import pandas as pd"
   ]
  },
  {
   "cell_type": "code",
   "execution_count": 30,
   "metadata": {},
   "outputs": [
    {
     "name": "stdout",
     "output_type": "stream",
     "text": [
      "(700, 1) (700, 1)\n"
     ]
    }
   ],
   "source": [
    "dataset = pd.read_csv('train.csv')      #训练集\n",
    "dataset2 = pd.read_csv(\"test.csv\")    #测试集\n",
    "x_train = np.array(dataset.iloc[ : , :1].values)\n",
    "y_train = np.array(dataset.iloc[ : , 1:].values)\n",
    "x_test = np.array(dataset2.iloc[ :, :1].values)\n",
    "y_test = np.array(dataset2.iloc[ :, 1].values)\n",
    "model = LinearRegression()\n",
    "print(x_train.shape, y_train.shape)\n",
    "model.fit(x_train, y_train)\n",
    "y = model.predict(x_test)"
   ]
  },
  {
   "cell_type": "code",
   "execution_count": 36,
   "metadata": {},
   "outputs": [
    {
     "data": {
      "image/png": "[encoded data removed]",
      "text/plain": [
       "<Figure size 432x288 with 1 Axes>"
      ]
     },
     "metadata": {
      "needs_background": "light"
     },
     "output_type": "display_data"
    }
   ],
   "source": [
    "#plt.scatter(x_test, y_test, color='red')\n",
    "#plt.plot(x_train, y_train, color='yellow')\n",
    "plt.plot(x_test, y, color='blue')\n",
    "plt.show()"
   ]
  }
 ],
 "metadata": {
  "interpreter": {
   "hash": "52878f4b7f3ad61ae64bbb7dc1d60c3d4012b37602d4e87099fae12cbcfe8a31"
  },
  "kernelspec": {
   "display_name": "Python 3.10.3 64-bit",
   "language": "python",
   "name": "python3"
  },
  "language_info": {
   "codemirror_mode": {
    "name": "ipython",
    "version": 3
   },
   "file_extension": ".py",
   "mimetype": "text/x-python",
   "name": "python",
   "nbconvert_exporter": "python",
   "pygments_lexer": "ipython3",
   "version": "3.10.3"
  },
  "orig_nbformat": 4
 },
 "nbformat": 4,
 "nbformat_minor": 2
}
