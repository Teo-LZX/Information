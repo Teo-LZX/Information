{
 "cells": [
  {
   "cell_type": "code",
   "execution_count": 1,
   "metadata": {},
   "outputs": [],
   "source": [
    "import numpy as np\n",
    "import pandas as pd"
   ]
  },
  {
   "cell_type": "code",
   "execution_count": 10,
   "metadata": {},
   "outputs": [
    {
     "name": "stdout",
     "output_type": "stream",
     "text": [
      "(10, 26)\n",
      "   car_ID  symboling                   CarName fueltype aspiration doornumber  \\\n",
      "0       1          3        alfa-romero giulia      gas        std        two   \n",
      "1       2          3       alfa-romero stelvio      gas        std        two   \n",
      "2       3          1  alfa-romero Quadrifoglio      gas        std        two   \n",
      "3       4          2               audi 100 ls      gas        std       four   \n",
      "4       5          2                audi 100ls      gas        std       four   \n",
      "5       6          2                  audi fox      gas        std        two   \n",
      "6       7          1                audi 100ls      gas        std       four   \n",
      "7       8          1                 audi 5000      gas        std       four   \n",
      "8       9          1                 audi 4000      gas      turbo       four   \n",
      "9      10          0       audi 5000s (diesel)      gas      turbo        two   \n",
      "\n",
      "       carbody drivewheel enginelocation  wheelbase  ...  enginesize  \\\n",
      "0  convertible        rwd          front       88.6  ...         130   \n",
      "1  convertible        rwd          front       88.6  ...         130   \n",
      "2    hatchback        rwd          front       94.5  ...         152   \n",
      "3        sedan        fwd          front       99.8  ...         109   \n",
      "4        sedan        4wd          front       99.4  ...         136   \n",
      "5        sedan        fwd          front       99.8  ...         136   \n",
      "6        sedan        fwd          front      105.8  ...         136   \n",
      "7        wagon        fwd          front      105.8  ...         136   \n",
      "8        sedan        fwd          front      105.8  ...         131   \n",
      "9    hatchback        4wd          front       99.5  ...         131   \n",
      "\n",
      "   fuelsystem  boreratio  stroke compressionratio horsepower  peakrpm citympg  \\\n",
      "0        mpfi       3.47    2.68              9.0        111     5000      21   \n",
      "1        mpfi       3.47    2.68              9.0        111     5000      21   \n",
      "2        mpfi       2.68    3.47              9.0        154     5000      19   \n",
      "3        mpfi       3.19    3.40             10.0        102     5500      24   \n",
      "4        mpfi       3.19    3.40              8.0        115     5500      18   \n",
      "5        mpfi       3.19    3.40              8.5        110     5500      19   \n",
      "6        mpfi       3.19    3.40              8.5        110     5500      19   \n",
      "7        mpfi       3.19    3.40              8.5        110     5500      19   \n",
      "8        mpfi       3.13    3.40              8.3        140     5500      17   \n",
      "9        mpfi       3.13    3.40              7.0        160     5500      16   \n",
      "\n",
      "   highwaympg      price  \n",
      "0          27  13495.000  \n",
      "1          27  16500.000  \n",
      "2          26  16500.000  \n",
      "3          30  13950.000  \n",
      "4          22  17450.000  \n",
      "5          25  15250.000  \n",
      "6          25  17710.000  \n",
      "7          25  18920.000  \n",
      "8          20  23875.000  \n",
      "9          22  17859.167  \n",
      "\n",
      "[10 rows x 26 columns]\n"
     ]
    }
   ],
   "source": [
    "df = pd.read_csv('CarPrice_Assignment.csv', nrows=10)\n",
    "print(df.shape)\n",
    "\n",
    "print(df)"
   ]
  }
 ],
 "metadata": {
  "interpreter": {
   "hash": "52878f4b7f3ad61ae64bbb7dc1d60c3d4012b37602d4e87099fae12cbcfe8a31"
  },
  "kernelspec": {
   "display_name": "Python 3.10.3 64-bit",
   "language": "python",
   "name": "python3"
  },
  "language_info": {
   "codemirror_mode": {
    "name": "ipython",
    "version": 3
   },
   "file_extension": ".py",
   "mimetype": "text/x-python",
   "name": "python",
   "nbconvert_exporter": "python",
   "pygments_lexer": "ipython3",
   "version": "3.10.3"
  },
  "orig_nbformat": 4
 },
 "nbformat": 4,
 "nbformat_minor": 2
}
