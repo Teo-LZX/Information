{
 "cells": [
  {
   "cell_type": "code",
   "execution_count": 2,
   "metadata": {},
   "outputs": [
    {
     "name": "stdout",
     "output_type": "stream",
     "text": [
      "2.3.2\n"
     ]
    }
   ],
   "source": [
    "import paddle\n",
    "print(paddle.__version__)"
   ]
  },
  {
   "cell_type": "code",
   "execution_count": null,
   "metadata": {},
   "outputs": [],
   "source": [
    "from paddle.vision.transforms import Compose, Normalize\n",
    "\n",
    "transform = Compose([Normalize(mean=[127.5],\n",
    "                               std=[127.5],\n",
    "                               data_format='CHW')])\n",
    "# 使用transform对数据集做归一化\n",
    "print('download training data and load training data')\n",
    "train_dataset = paddle.vision.datasets.MNIST(mode='train', transform=transform)\n",
    "test_dataset = paddle.vision.datasets.MNIST(mode='test', transform=transform)\n",
    "print('load finished')"
   ]
  },
  {
   "cell_type": "code",
   "execution_count": 4,
   "metadata": {},
   "outputs": [
    {
     "name": "stdout",
     "output_type": "stream",
     "text": [
      "train_data0 label is: [5]\n"
     ]
    },
    {
     "data": {
      "image/png": "[encoded data removed]",
      "text/plain": [
       "<Figure size 144x144 with 1 Axes>"
      ]
     },
     "metadata": {
      "needs_background": "light"
     },
     "output_type": "display_data"
    }
   ],
   "source": [
    "import numpy as np\n",
    "import matplotlib.pyplot as plt\n",
    "train_data0, train_label_0 = train_dataset[0][0],train_dataset[0][1]\n",
    "train_data0 = train_data0.reshape([28,28])\n",
    "plt.figure(figsize=(2,2))\n",
    "plt.imshow(train_data0, cmap=plt.cm.binary)\n",
    "print('train_data0 label is: ' + str(train_label_0))\n"
   ]
  },
  {
   "cell_type": "code",
   "execution_count": 5,
   "metadata": {},
   "outputs": [],
   "source": [
    "import paddle.nn.functional as F\n",
    "class LeNet(paddle.nn.Layer):\n",
    "    def __init__(self):\n",
    "        super(LeNet, self).__init__()\n",
    "        self.conv1 = paddle.nn.Conv2D(in_channels=1, out_channels=6, kernel_size=5, stride=1, padding=2)\n",
    "        self.max_pool1 = paddle.nn.MaxPool2D(kernel_size=2,  stride=2)\n",
    "        self.conv2 = paddle.nn.Conv2D(in_channels=6, out_channels=16, kernel_size=5, stride=1)\n",
    "        self.max_pool2 = paddle.nn.MaxPool2D(kernel_size=2, stride=2)\n",
    "        self.linear1 = paddle.nn.Linear(in_features=16*5*5, out_features=120)\n",
    "        self.linear2 = paddle.nn.Linear(in_features=120, out_features=84)\n",
    "        self.linear3 = paddle.nn.Linear(in_features=84, out_features=10)\n",
    "\n",
    "    def forward(self, x):\n",
    "        x = self.conv1(x)\n",
    "        x = F.relu(x)\n",
    "        x = self.max_pool1(x)\n",
    "        x = self.conv2(x)\n",
    "        x = F.relu(x)\n",
    "        x = self.max_pool2(x)\n",
    "        x = paddle.flatten(x, start_axis=1,stop_axis=-1)\n",
    "        x = self.linear1(x)\n",
    "        x = F.relu(x)\n",
    "        x = self.linear2(x)\n",
    "        x = F.relu(x)\n",
    "        x = self.linear3(x)\n",
    "        return x\n"
   ]
  },
  {
   "cell_type": "code",
   "execution_count": 8,
   "metadata": {},
   "outputs": [
    {
     "ename": "RuntimeError",
     "evalue": "(PreconditionNotMet) The third-party dynamic library (cudnn64_7.dll) that Paddle depends on is not configured correctly. (error code is 126)\n  Suggestions:\n  1. Check if the third-party dynamic library (e.g. CUDA, CUDNN) is installed correctly and its version is matched with paddlepaddle you installed.\n  2. Configure third-party dynamic library environment variables as follows:\n  - Linux: set LD_LIBRARY_PATH by `export LD_LIBRARY_PATH=...`\n  - Windows: set PATH by `set PATH=XXX; (at ..\\paddle\\phi\\backends\\dynload\\dynamic_loader.cc:303)\n",
     "output_type": "error",
     "traceback": [
      "\u001b[1;31m---------------------------------------------------------------------------\u001b[0m",
      "\u001b[1;31mRuntimeError\u001b[0m                              Traceback (most recent call last)",
      "\u001b[1;32mc:\\Users\\Mercury\\Documents\\Code\\python\\machine_learning\\paddle\\minist.ipynb Cell 5\u001b[0m in \u001b[0;36m<cell line: 2>\u001b[1;34m()\u001b[0m\n\u001b[0;32m      <a href='vscode-notebook-cell:/c%3A/Users/Mercury/Documents/Code/python/machine_learning/paddle/minist.ipynb#W4sZmlsZQ%3D%3D?line=0'>1</a>\u001b[0m \u001b[39mfrom\u001b[39;00m \u001b[39mpaddle\u001b[39;00m\u001b[39m.\u001b[39;00m\u001b[39mmetric\u001b[39;00m \u001b[39mimport\u001b[39;00m Accuracy\n\u001b[1;32m----> <a href='vscode-notebook-cell:/c%3A/Users/Mercury/Documents/Code/python/machine_learning/paddle/minist.ipynb#W4sZmlsZQ%3D%3D?line=1'>2</a>\u001b[0m model \u001b[39m=\u001b[39m paddle\u001b[39m.\u001b[39mModel(LeNet())   \u001b[39m# 用Model封装模型\u001b[39;00m\n\u001b[0;32m      <a href='vscode-notebook-cell:/c%3A/Users/Mercury/Documents/Code/python/machine_learning/paddle/minist.ipynb#W4sZmlsZQ%3D%3D?line=2'>3</a>\u001b[0m optim \u001b[39m=\u001b[39m paddle\u001b[39m.\u001b[39moptimizer\u001b[39m.\u001b[39mAdam(learning_rate\u001b[39m=\u001b[39m\u001b[39m0.001\u001b[39m, parameters\u001b[39m=\u001b[39mmodel\u001b[39m.\u001b[39mparameters())\n\u001b[0;32m      <a href='vscode-notebook-cell:/c%3A/Users/Mercury/Documents/Code/python/machine_learning/paddle/minist.ipynb#W4sZmlsZQ%3D%3D?line=3'>4</a>\u001b[0m \u001b[39m# 配置模型\u001b[39;00m\n",
      "\u001b[1;32mc:\\Users\\Mercury\\Documents\\Code\\python\\machine_learning\\paddle\\minist.ipynb Cell 5\u001b[0m in \u001b[0;36mLeNet.__init__\u001b[1;34m(self)\u001b[0m\n\u001b[0;32m      <a href='vscode-notebook-cell:/c%3A/Users/Mercury/Documents/Code/python/machine_learning/paddle/minist.ipynb#W4sZmlsZQ%3D%3D?line=2'>3</a>\u001b[0m \u001b[39mdef\u001b[39;00m \u001b[39m__init__\u001b[39m(\u001b[39mself\u001b[39m):\n\u001b[0;32m      <a href='vscode-notebook-cell:/c%3A/Users/Mercury/Documents/Code/python/machine_learning/paddle/minist.ipynb#W4sZmlsZQ%3D%3D?line=3'>4</a>\u001b[0m     \u001b[39msuper\u001b[39m(LeNet, \u001b[39mself\u001b[39m)\u001b[39m.\u001b[39m\u001b[39m__init__\u001b[39m()\n\u001b[1;32m----> <a href='vscode-notebook-cell:/c%3A/Users/Mercury/Documents/Code/python/machine_learning/paddle/minist.ipynb#W4sZmlsZQ%3D%3D?line=4'>5</a>\u001b[0m     \u001b[39mself\u001b[39m\u001b[39m.\u001b[39mconv1 \u001b[39m=\u001b[39m paddle\u001b[39m.\u001b[39;49mnn\u001b[39m.\u001b[39;49mConv2D(in_channels\u001b[39m=\u001b[39;49m\u001b[39m1\u001b[39;49m, out_channels\u001b[39m=\u001b[39;49m\u001b[39m6\u001b[39;49m, kernel_size\u001b[39m=\u001b[39;49m\u001b[39m5\u001b[39;49m, stride\u001b[39m=\u001b[39;49m\u001b[39m1\u001b[39;49m, padding\u001b[39m=\u001b[39;49m\u001b[39m2\u001b[39;49m)\n\u001b[0;32m      <a href='vscode-notebook-cell:/c%3A/Users/Mercury/Documents/Code/python/machine_learning/paddle/minist.ipynb#W4sZmlsZQ%3D%3D?line=5'>6</a>\u001b[0m     \u001b[39mself\u001b[39m\u001b[39m.\u001b[39mmax_pool1 \u001b[39m=\u001b[39m paddle\u001b[39m.\u001b[39mnn\u001b[39m.\u001b[39mMaxPool2D(kernel_size\u001b[39m=\u001b[39m\u001b[39m2\u001b[39m,  stride\u001b[39m=\u001b[39m\u001b[39m2\u001b[39m)\n\u001b[0;32m      <a href='vscode-notebook-cell:/c%3A/Users/Mercury/Documents/Code/python/machine_learning/paddle/minist.ipynb#W4sZmlsZQ%3D%3D?line=6'>7</a>\u001b[0m     \u001b[39mself\u001b[39m\u001b[39m.\u001b[39mconv2 \u001b[39m=\u001b[39m paddle\u001b[39m.\u001b[39mnn\u001b[39m.\u001b[39mConv2D(in_channels\u001b[39m=\u001b[39m\u001b[39m6\u001b[39m, out_channels\u001b[39m=\u001b[39m\u001b[39m16\u001b[39m, kernel_size\u001b[39m=\u001b[39m\u001b[39m5\u001b[39m, stride\u001b[39m=\u001b[39m\u001b[39m1\u001b[39m)\n",
      "File \u001b[1;32mc:\\Users\\Mercury\\AppData\\Local\\Programs\\Python\\Python38\\lib\\site-packages\\paddle\\nn\\layer\\conv.py:644\u001b[0m, in \u001b[0;36mConv2D.__init__\u001b[1;34m(self, in_channels, out_channels, kernel_size, stride, padding, dilation, groups, padding_mode, weight_attr, bias_attr, data_format)\u001b[0m\n\u001b[0;32m    632\u001b[0m \u001b[39mdef\u001b[39;00m \u001b[39m__init__\u001b[39m(\u001b[39mself\u001b[39m,\n\u001b[0;32m    633\u001b[0m              in_channels,\n\u001b[0;32m    634\u001b[0m              out_channels,\n\u001b[1;32m   (...)\u001b[0m\n\u001b[0;32m    642\u001b[0m              bias_attr\u001b[39m=\u001b[39m\u001b[39mNone\u001b[39;00m,\n\u001b[0;32m    643\u001b[0m              data_format\u001b[39m=\u001b[39m\u001b[39m\"\u001b[39m\u001b[39mNCHW\u001b[39m\u001b[39m\"\u001b[39m):\n\u001b[1;32m--> 644\u001b[0m     \u001b[39msuper\u001b[39;49m(Conv2D, \u001b[39mself\u001b[39;49m)\u001b[39m.\u001b[39;49m\u001b[39m__init__\u001b[39;49m(\n\u001b[0;32m    645\u001b[0m         in_channels,\n\u001b[0;32m    646\u001b[0m         out_channels,\n\u001b[0;32m    647\u001b[0m         kernel_size,\n\u001b[0;32m    648\u001b[0m         \u001b[39mFalse\u001b[39;49;00m,\n\u001b[0;32m    649\u001b[0m         \u001b[39m2\u001b[39;49m,\n\u001b[0;32m    650\u001b[0m         stride\u001b[39m=\u001b[39;49mstride,\n\u001b[0;32m    651\u001b[0m         padding\u001b[39m=\u001b[39;49mpadding,\n\u001b[0;32m    652\u001b[0m         padding_mode\u001b[39m=\u001b[39;49mpadding_mode,\n\u001b[0;32m    653\u001b[0m         dilation\u001b[39m=\u001b[39;49mdilation,\n\u001b[0;32m    654\u001b[0m         groups\u001b[39m=\u001b[39;49mgroups,\n\u001b[0;32m    655\u001b[0m         weight_attr\u001b[39m=\u001b[39;49mweight_attr,\n\u001b[0;32m    656\u001b[0m         bias_attr\u001b[39m=\u001b[39;49mbias_attr,\n\u001b[0;32m    657\u001b[0m         data_format\u001b[39m=\u001b[39;49mdata_format)\n",
      "File \u001b[1;32mc:\\Users\\Mercury\\AppData\\Local\\Programs\\Python\\Python38\\lib\\site-packages\\paddle\\nn\\layer\\conv.py:140\u001b[0m, in \u001b[0;36m_ConvNd.__init__\u001b[1;34m(self, in_channels, out_channels, kernel_size, transposed, dims, stride, padding, padding_mode, output_padding, dilation, groups, weight_attr, bias_attr, data_format)\u001b[0m\n\u001b[0;32m    133\u001b[0m \u001b[39mself\u001b[39m\u001b[39m.\u001b[39mweight \u001b[39m=\u001b[39m \u001b[39mself\u001b[39m\u001b[39m.\u001b[39mcreate_parameter(\n\u001b[0;32m    134\u001b[0m     shape\u001b[39m=\u001b[39mfilter_shape,\n\u001b[0;32m    135\u001b[0m     attr\u001b[39m=\u001b[39m\u001b[39mself\u001b[39m\u001b[39m.\u001b[39m_param_attr,\n\u001b[0;32m    136\u001b[0m     default_initializer\u001b[39m=\u001b[39m_get_default_param_initializer())\n\u001b[0;32m    137\u001b[0m \u001b[39mself\u001b[39m\u001b[39m.\u001b[39mbias \u001b[39m=\u001b[39m \u001b[39mself\u001b[39m\u001b[39m.\u001b[39mcreate_parameter(\n\u001b[0;32m    138\u001b[0m     attr\u001b[39m=\u001b[39m\u001b[39mself\u001b[39m\u001b[39m.\u001b[39m_bias_attr, shape\u001b[39m=\u001b[39m[\u001b[39mself\u001b[39m\u001b[39m.\u001b[39m_out_channels], is_bias\u001b[39m=\u001b[39m\u001b[39mTrue\u001b[39;00m)\n\u001b[1;32m--> 140\u001b[0m cudnn_version \u001b[39m=\u001b[39m get_cudnn_version()\n\u001b[0;32m    142\u001b[0m \u001b[39mself\u001b[39m\u001b[39m.\u001b[39m_use_cudnn \u001b[39m=\u001b[39m \u001b[39mTrue\u001b[39;00m \u001b[39mif\u001b[39;00m (is_compiled_with_cuda() \u001b[39mand\u001b[39;00m\n\u001b[0;32m    143\u001b[0m                            cudnn_version \u001b[39mis\u001b[39;00m \u001b[39mnot\u001b[39;00m \u001b[39mNone\u001b[39;00m) \u001b[39melse\u001b[39;00m \u001b[39mFalse\u001b[39;00m\n\u001b[0;32m    145\u001b[0m \u001b[39mself\u001b[39m\u001b[39m.\u001b[39m_op_type \u001b[39m=\u001b[39m \u001b[39m\"\u001b[39m\u001b[39mconv\u001b[39m\u001b[39m\"\u001b[39m \u001b[39m+\u001b[39m \u001b[39mstr\u001b[39m(dims) \u001b[39m+\u001b[39m \u001b[39m'\u001b[39m\u001b[39md\u001b[39m\u001b[39m'\u001b[39m\n",
      "File \u001b[1;32mc:\\Users\\Mercury\\AppData\\Local\\Programs\\Python\\Python38\\lib\\site-packages\\paddle\\device\\__init__.py:186\u001b[0m, in \u001b[0;36mget_cudnn_version\u001b[1;34m()\u001b[0m\n\u001b[0;32m    184\u001b[0m     \u001b[39mreturn\u001b[39;00m \u001b[39mNone\u001b[39;00m\n\u001b[0;32m    185\u001b[0m \u001b[39mif\u001b[39;00m _cudnn_version \u001b[39mis\u001b[39;00m \u001b[39mNone\u001b[39;00m:\n\u001b[1;32m--> 186\u001b[0m     cudnn_version \u001b[39m=\u001b[39m \u001b[39mint\u001b[39m(core\u001b[39m.\u001b[39;49mcudnn_version())\n\u001b[0;32m    187\u001b[0m     _cudnn_version \u001b[39m=\u001b[39m cudnn_version\n\u001b[0;32m    188\u001b[0m     \u001b[39mif\u001b[39;00m _cudnn_version \u001b[39m<\u001b[39m \u001b[39m0\u001b[39m:\n",
      "\u001b[1;31mRuntimeError\u001b[0m: (PreconditionNotMet) The third-party dynamic library (cudnn64_7.dll) that Paddle depends on is not configured correctly. (error code is 126)\n  Suggestions:\n  1. Check if the third-party dynamic library (e.g. CUDA, CUDNN) is installed correctly and its version is matched with paddlepaddle you installed.\n  2. Configure third-party dynamic library environment variables as follows:\n  - Linux: set LD_LIBRARY_PATH by `export LD_LIBRARY_PATH=...`\n  - Windows: set PATH by `set PATH=XXX; (at ..\\paddle\\phi\\backends\\dynload\\dynamic_loader.cc:303)\n"
     ]
    }
   ],
   "source": [
    "from paddle.metric import Accuracy\n",
    "model = paddle.Model(LeNet())   # 用Model封装模型\n",
    "optim = paddle.optimizer.Adam(learning_rate=0.001, parameters=model.parameters())\n",
    "# 配置模型\n",
    "model.prepare(\n",
    "    optim,\n",
    "    paddle.nn.CrossEntropyLoss(),\n",
    "    Accuracy()\n",
    "    )"
   ]
  },
  {
   "cell_type": "code",
   "execution_count": 7,
   "metadata": {},
   "outputs": [
    {
     "ename": "NameError",
     "evalue": "name 'model' is not defined",
     "output_type": "error",
     "traceback": [
      "\u001b[1;31m---------------------------------------------------------------------------\u001b[0m",
      "\u001b[1;31mNameError\u001b[0m                                 Traceback (most recent call last)",
      "\u001b[1;32mc:\\Users\\Mercury\\Documents\\Code\\python\\machine_learning\\paddle\\minist.ipynb Cell 6\u001b[0m in \u001b[0;36m<cell line: 2>\u001b[1;34m()\u001b[0m\n\u001b[0;32m      <a href='vscode-notebook-cell:/c%3A/Users/Mercury/Documents/Code/python/machine_learning/paddle/minist.ipynb#W5sZmlsZQ%3D%3D?line=0'>1</a>\u001b[0m \u001b[39m# 训练模型\u001b[39;00m\n\u001b[1;32m----> <a href='vscode-notebook-cell:/c%3A/Users/Mercury/Documents/Code/python/machine_learning/paddle/minist.ipynb#W5sZmlsZQ%3D%3D?line=1'>2</a>\u001b[0m model\u001b[39m.\u001b[39mfit(train_dataset,\n\u001b[0;32m      <a href='vscode-notebook-cell:/c%3A/Users/Mercury/Documents/Code/python/machine_learning/paddle/minist.ipynb#W5sZmlsZQ%3D%3D?line=2'>3</a>\u001b[0m         epochs\u001b[39m=\u001b[39m\u001b[39m2\u001b[39m,\n\u001b[0;32m      <a href='vscode-notebook-cell:/c%3A/Users/Mercury/Documents/Code/python/machine_learning/paddle/minist.ipynb#W5sZmlsZQ%3D%3D?line=3'>4</a>\u001b[0m         batch_size\u001b[39m=\u001b[39m\u001b[39m64\u001b[39m,\n\u001b[0;32m      <a href='vscode-notebook-cell:/c%3A/Users/Mercury/Documents/Code/python/machine_learning/paddle/minist.ipynb#W5sZmlsZQ%3D%3D?line=4'>5</a>\u001b[0m         verbose\u001b[39m=\u001b[39m\u001b[39m1\u001b[39m\n\u001b[0;32m      <a href='vscode-notebook-cell:/c%3A/Users/Mercury/Documents/Code/python/machine_learning/paddle/minist.ipynb#W5sZmlsZQ%3D%3D?line=5'>6</a>\u001b[0m         )\n",
      "\u001b[1;31mNameError\u001b[0m: name 'model' is not defined"
     ]
    }
   ],
   "source": [
    "# 训练模型\n",
    "model.fit(train_dataset,\n",
    "        epochs=2,\n",
    "        batch_size=64,\n",
    "        verbose=1\n",
    "        )\n"
   ]
  }
 ],
 "metadata": {
  "kernelspec": {
   "display_name": "Python 3.8.5 64-bit",
   "language": "python",
   "name": "python3"
  },
  "language_info": {
   "codemirror_mode": {
    "name": "ipython",
    "version": 3
   },
   "file_extension": ".py",
   "mimetype": "text/x-python",
   "name": "python",
   "nbconvert_exporter": "python",
   "pygments_lexer": "ipython3",
   "version": "3.8.5"
  },
  "orig_nbformat": 4,
  "vscode": {
   "interpreter": {
    "hash": "19ba88750d5950cdab8145798e3879c10b2f02c726cde54cc3979a1adebe1379"
   }
  }
 },
 "nbformat": 4,
 "nbformat_minor": 2
}
