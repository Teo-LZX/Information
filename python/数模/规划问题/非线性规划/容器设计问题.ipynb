{
 "cells": [
  {
   "cell_type": "code",
   "execution_count": null,
   "metadata": {},
   "outputs": [
    {
     "ename": "",
     "evalue": "",
     "output_type": "error",
     "traceback": [
      "\u001b[1;31mPython 3.8.5 64-bit 需要安装 ipykernel。\n",
      "Run the following command to install 'ipykernel' into the Python environment. \n",
      "Command: 'c:/Users/Mercury/AppData/Local/Programs/Python/Python38/python.exe -m pip install ipykernel -U --user --force-reinstall'"
     ]
    }
   ],
   "source": [
    "import numpy as np\n",
    "from scipy.optimize import minimize \n",
    "import matplotlib.pyplot as plt\n",
    "from mpl_toolkits.mplot3d import Axes3D\n",
    "\n",
    "def func(args):\n",
    "    x, y = args\n",
    "    area1 = 4*x*y\n",
    "    area2 = x*x\n",
    "    return area1*10 + area2*20   #总费用\n",
    "\n",
    "args = np.array((2, 1.5))    #初始迭代参数\n",
    "e = 1e-10       # 非常接近0的值\n",
    "#约束条件\n",
    "cons = ({'type':'eq', 'fun': lambda x: x[0]*x[0]*x[1] - 12},  #体积为12\n",
    "{'type':'ineq', 'fun': lambda x: 68 - 3*4*x[0]*x[1] - 2*x[0]*x[0]},   #总重量不超过68公斤\n",
    "{'type':'ineq', 'fun': lambda x:x[0] - e},\n",
    "{'type':'ineq', 'fun': lambda x:x[1] - e})\n",
    "\n",
    "\n",
    "minval = minimize(func, args, method=\"SLSQP\", constraints=cons)\n",
    "\n",
    "print('最优解:') \n",
    "print('容器底长:', minval.x[0], ' 容器高:', minval.x[1])\n",
    "print('最小费用：', minval.fun)\n",
    "print(minval.success)\n"
   ]
  },
  {
   "cell_type": "code",
   "execution_count": null,
   "metadata": {},
   "outputs": [],
   "source": [
    "#画图\n",
    "figure = plt.figure()\n",
    "ax = Axes3D(figure)\n",
    "x = np.arange(-5, 5, 0.01)\n",
    "y = np.arange(-5, 5, 0.1)\n",
    "X, Y = np.meshgrid(x, y)\n",
    "# Z轴函数\n",
    "Z = 4*X*Y*10 + 20*X*X\n",
    "# 定义x,y 轴名称\n",
    "plt.xlabel(\"x\")\n",
    "plt.ylabel(\"y\")\n",
    "# 设置间隔和颜色\n",
    "ax.plot_surface(X, Y, Z, rstride=1, cstride=1, cmap=\"rainbow\")\n",
    "ax.scatter(minval.x[0], minval.x[1], minval.fun)\n",
    "# 展示\n",
    "plt.show()"
   ]
  }
 ],
 "metadata": {
  "kernelspec": {
   "display_name": "Python 3.8.5 64-bit",
   "language": "python",
   "name": "python3"
  },
  "language_info": {
   "name": "python",
   "version": "3.8.5"
  },
  "orig_nbformat": 4,
  "vscode": {
   "interpreter": {
    "hash": "19ba88750d5950cdab8145798e3879c10b2f02c726cde54cc3979a1adebe1379"
   }
  }
 },
 "nbformat": 4,
 "nbformat_minor": 2
}
