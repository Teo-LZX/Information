{
 "cells": [
  {
   "cell_type": "code",
   "execution_count": 2,
   "metadata": {},
   "outputs": [
    {
     "name": "stdout",
     "output_type": "stream",
     "text": [
      "MAE 1.7991377238704422\n",
      "R2 -0.05321124778131564\n",
      "MSE 10.780246689266678\n"
     ]
    }
   ],
   "source": [
    "from sklearn.linear_model import LinearRegression\n",
    "from sklearn.model_selection import cross_val_score\n",
    "from sklearn.metrics import mean_absolute_error\n",
    "from sklearn.metrics import mean_squared_error # 均方误差\n",
    "from sklearn.metrics import r2_score # R square\n",
    "\n",
    "import pandas as pd\n",
    "import numpy as np\n",
    "\n",
    "data风化后=pd.read_excel('./风化前和风化后化学成分对比.xlsx', usecols=['二氧化硅风化后(SiO2)','氧化钠风化后(Na2O)','氧化钾风化后(K2O)', '氧化钙风化后(CaO)', '氧化镁风化后(MgO)', '氧化铝风化后(Al2O3)', '氧化铁风化后(Fe2O3)', '氧化铜风化后(CuO)', '氧化铅风化后(PbO)','氧化钡风化后(BaO)','五氧化二磷风化后(P2O5)','氧化锶风化后(SrO)','氧化锡风化后(SnO2)','二氧化硫风化后(SO2)'])\n",
    "data风化前=pd.read_excel('./风化前和风化后化学成分对比.xlsx', usecols=['二氧化硅(SiO2)','氧化钠(Na2O)','氧化钾(K2O)', '氧化钙(CaO)', '氧化镁(MgO)', '氧化铝(Al2O3)', '氧化铁(Fe2O3)', '氧化铜(CuO)', '氧化铅(PbO)','氧化钡(BaO)','五氧化二磷(P2O5)','氧化锶(SrO)','氧化锡(SnO2)','二氧化硫(SO2)'])\n",
    "\n",
    "# TrainX=data[data['风化']=='风化'][['二氧化硅(SiO2)', '氧化钠(Na2O)', '氧化钾(K2O)', '氧化钙(CaO)', '氧化镁(MgO)',\n",
    "#        '氧化铝(Al2O3)', '氧化铁(Fe2O3)', '氧化铜(CuO)', '氧化铅(PbO)', '氧化钡(BaO)',\n",
    "#        '五氧化二磷(P2O5)', '氧化锶(SrO)', '氧化锡(SnO2)', '二氧化硫(SO2)']].values[1:]\n",
    "# TrainY=data[data['风化']=='未风化'][['二氧化硅(SiO2)', '氧化钠(Na2O)', '氧化钾(K2O)', '氧化钙(CaO)', '氧化镁(MgO)',\n",
    "#        '氧化铝(Al2O3)', '氧化铁(Fe2O3)', '氧化铜(CuO)', '氧化铅(PbO)', '氧化钡(BaO)',\n",
    "#        '五氧化二磷(P2O5)', '氧化锶(SrO)', '氧化锡(SnO2)', '二氧化硫(SO2)']].values\n",
    "\n",
    "Train_X=np.array(data风化后)\n",
    "Train_Y=np.array(data风化前)\n",
    "\n",
    "l=LinearRegression(n_jobs=-1).fit(Train_X,Train_Y)\n",
    "P=l.predict(Train_X)\n",
    "print('MAE', mean_absolute_error(P,Train_Y))\n",
    "print('R2', r2_score(P, Train_Y))\n",
    "print('MSE', mean_squared_error(P, Train_Y))"
   ]
  },
  {
   "cell_type": "code",
   "execution_count": 10,
   "metadata": {},
   "outputs": [],
   "source": [
    "P\n",
    "\n",
    "for i in range(len(P)):\n",
    "    for j in range(len(P[i])):\n",
    "        P[i][j] = round(P[i][j], 3)\n",
    "df = pd.DataFrame(P, columns=['二氧化硅(SiO2)','氧化钠(Na2O)','氧化钾(K2O)', '氧化钙(CaO)', '氧化镁(MgO)', '氧化铝(Al2O3)', '氧化铁(Fe2O3)', '氧化铜(CuO)', '氧化铅(PbO)','氧化钡(BaO)','五氧化二磷(P2O5)','氧化锶(SrO)','氧化锡(SnO2)','二氧化硫(SO2)'])\n",
    "df.to_csv('./问题一预测结果.csv', index=False,encoding='gb2312')"
   ]
  },
  {
   "cell_type": "code",
   "execution_count": null,
   "metadata": {},
   "outputs": [],
   "source": [
    "import matplotlib.pyplot as plt\n",
    "\n",
    "plt.xlabel('')\n",
    "plt.title('模型拟合效果')\n",
    "plt.show()"
   ]
  }
 ],
 "metadata": {
  "kernelspec": {
   "display_name": "Python 3.8.5 64-bit",
   "language": "python",
   "name": "python3"
  },
  "language_info": {
   "codemirror_mode": {
    "name": "ipython",
    "version": 3
   },
   "file_extension": ".py",
   "mimetype": "text/x-python",
   "name": "python",
   "nbconvert_exporter": "python",
   "pygments_lexer": "ipython3",
   "version": "3.8.5"
  },
  "orig_nbformat": 4,
  "vscode": {
   "interpreter": {
    "hash": "19ba88750d5950cdab8145798e3879c10b2f02c726cde54cc3979a1adebe1379"
   }
  }
 },
 "nbformat": 4,
 "nbformat_minor": 2
}
