{
 "cells": [
  {
   "cell_type": "code",
   "execution_count": null,
   "metadata": {},
   "outputs": [],
   "source": [
    "import numpy as np\n",
    "import pandas as pd\n",
    "from scipy.stats import pearsonr\n",
    "\n",
    "data = pd.read_excel('./问题一相关系数.xlsx')\n",
    "data = np.array(data)\n",
    "data"
   ]
  },
  {
   "cell_type": "code",
   "execution_count": null,
   "metadata": {},
   "outputs": [],
   "source": [
    "def is_number(s):   #函数功能-判断字符串是否为数字\n",
    "    try:  # 如果能运行float(s)语句，返回True（字符串s是浮点数）\n",
    "        float(s)\n",
    "        return True\n",
    "    except ValueError:  # ValueError为Python的一种标准异常，表示\"传入无效的参数\"\n",
    "        pass  # 如果引发了ValueError这种异常，不做任何事情（pass：不做任何事情，一般用做占位语句）\n",
    "    try:\n",
    "        import unicodedata  # 处理ASCii码的包\n",
    "        unicodedata.numeric(s)  # 把一个表示数字的字符串转换为浮点数返回的函数\n",
    "        return True\n",
    "    except (TypeError, ValueError):\n",
    "        pass\n",
    "    return False\n",
    "\n",
    "显著性检验值 = []\n",
    "for it in data:\n",
    "    temp = [it[0]]\n",
    "    for it2 in it:\n",
    "        左括号位置 = it2.find('(')\n",
    "        右括号位置 = it2.find(')')\n",
    "        #print(it2, (左括号位置, 右括号位置), end='')\n",
    "        it2 = it2[左括号位置+1:右括号位置].strip('*')\n",
    "        if is_number(it2):\n",
    "            it2 = float(it2)\n",
    "            temp.append(it2)\n",
    "            #print(it2, end='')\n",
    "        #print()\n",
    "    显著性检验值.append(temp)\n",
    "显著性检验值\n"
   ]
  },
  {
   "cell_type": "code",
   "execution_count": null,
   "metadata": {},
   "outputs": [],
   "source": [
    "index = ['纹饰', '类型', '颜色', '风化']\n",
    "有效值 = []\n",
    "for i in range(len(显著性检验值)):\n",
    "    for j in range(1, i+1):\n",
    "        if 显著性检验值[i][j] < 0.05:\n",
    "            l = data[i][j].find('(')\n",
    "            r = data[i][j].find(')')\n",
    "            相关系数值 = float(data[i][j][:l])\n",
    "            有效值.append((相关系数值, (index[i+1],index[j])))\n",
    "for i in range(len(有效值)):\n",
    "    for j in range(len(有效值)-i-1):\n",
    "        if 有效值[j][0] > 有效值[j+1][0]:\n",
    "            temp = 有效值[j]\n",
    "            有效值[j] = 有效值[j+1]\n",
    "            有效值[j+1] = temp\n",
    "print(有效值, len(有效值))"
   ]
  },
  {
   "cell_type": "code",
   "execution_count": null,
   "metadata": {},
   "outputs": [],
   "source": [
    "中等相关 = []\n",
    "弱相关 = []\n",
    "\n",
    "正相关 = []\n",
    "负相关 = []\n",
    "for it in 有效值:\n",
    "    if abs(it[0]) >= 0.4:\n",
    "        中等相关.append(it)\n",
    "    elif abs(it[0]) < 0.4:\n",
    "        弱相关.append(it)\n",
    "for it in 有效值:\n",
    "    if it[0] > 0 :\n",
    "        正相关.append(it)\n",
    "    elif it[0] < 0 : \n",
    "        负相关.append(it)\n",
    "print(len(有效值), len(中等相关), len(弱相关), len(正相关), len(负相关))"
   ]
  },
  {
   "cell_type": "code",
   "execution_count": null,
   "metadata": {},
   "outputs": [],
   "source": [
    "#相关强度分布图\n",
    "import matplotlib.pyplot as plt\n",
    "plt.rcParams[\"font.sans-serif\"]=[\"SimHei\"] #设置字体\n",
    "plt.rcParams[\"axes.unicode_minus\"]=False #该语句解决图像中的“-”负号的乱码问题\n",
    "res = [len(弱相关), len(中等相关)]\n",
    "res2 = [len(正相关), len(负相关)]\n",
    "\n",
    "plt.pie(res,\n",
    "    labels=['中等强度相关(' + str(len(中等相关)) + '个)', '弱相关(' + str(len(弱相关)) + '个)'],\n",
    "    autopct='%.2f%%') # 格式化输出百分比\n",
    "plt.title('相关强度分布图')\n",
    "plt.show()\n",
    "\n",
    "plt.pie(res2,\n",
    "    labels=['正相关(' + str(len(正相关)) + '个)', '负相关(' + str(len(负相关)) + '个)'],\n",
    "    autopct='%.2f%%') # 格式化输出百分比\n",
    "plt.title('相关强度分布图2')\n",
    "plt.show()"
   ]
  }
 ],
 "metadata": {
  "kernelspec": {
   "display_name": "Python 3.8.5 64-bit",
   "language": "python",
   "name": "python3"
  },
  "language_info": {
   "codemirror_mode": {
    "name": "ipython",
    "version": 3
   },
   "file_extension": ".py",
   "mimetype": "text/x-python",
   "name": "python",
   "nbconvert_exporter": "python",
   "pygments_lexer": "ipython3",
   "version": "3.8.5"
  },
  "orig_nbformat": 4,
  "vscode": {
   "interpreter": {
    "hash": "19ba88750d5950cdab8145798e3879c10b2f02c726cde54cc3979a1adebe1379"
   }
  }
 },
 "nbformat": 4,
 "nbformat_minor": 2
}
