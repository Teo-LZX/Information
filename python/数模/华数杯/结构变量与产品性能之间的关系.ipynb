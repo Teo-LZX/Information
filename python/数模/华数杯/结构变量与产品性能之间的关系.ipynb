{
 "cells": [
  {
   "cell_type": "code",
   "execution_count": null,
   "metadata": {},
   "outputs": [],
   "source": [
    "import numpy as np\n",
    "import pandas as pd\n",
    "import matplotlib.pyplot as plt\n",
    "\n",
    "plt.rcParams['font.sans-serif'] = ['SimHei']\n",
    "\n",
    "#读取厚度\n",
    "thickness = np.array(pd.read_excel(io='./data3.xlsx', usecols=['厚度mm']))\n",
    "print(thickness)"
   ]
  },
  {
   "cell_type": "code",
   "execution_count": null,
   "metadata": {},
   "outputs": [],
   "source": [
    "#读取孔隙率\n",
    "porosity = np.array(pd.read_excel(io='./data3.xlsx', usecols=['孔隙率（%）']))\n",
    "print(porosity)"
   ]
  },
  {
   "cell_type": "code",
   "execution_count": null,
   "metadata": {},
   "outputs": [],
   "source": [
    "#读取压缩回弹性率\n",
    "compression_resilience_ratio = np.array(pd.read_excel(io='./data3.xlsx', usecols=['压缩回弹性率（%）']))\n",
    "print(compression_resilience_ratio)"
   ]
  },
  {
   "cell_type": "code",
   "execution_count": null,
   "metadata": {},
   "outputs": [],
   "source": [
    "#读取过滤阻力\n",
    "filter_resistance = np.array(pd.read_excel(io='./data3.xlsx', usecols=['过滤阻力Pa']))\n",
    "print(filter_resistance)"
   ]
  },
  {
   "cell_type": "code",
   "execution_count": null,
   "metadata": {},
   "outputs": [],
   "source": [
    "#读取过滤效率\n",
    "filtration_efficiency = np.array(pd.read_excel(io='./data3.xlsx', usecols=['过滤效率（%）']))\n",
    "print(filtration_efficiency)"
   ]
  },
  {
   "cell_type": "code",
   "execution_count": null,
   "metadata": {},
   "outputs": [],
   "source": [
    "#读取透气性\n",
    "breathability = np.array(pd.read_excel(io='./data3.xlsx', usecols=['透气性 mm/s']))\n",
    "print(breathability)"
   ]
  }
 ],
 "metadata": {
  "kernelspec": {
   "display_name": "Python 3.8.5 64-bit",
   "language": "python",
   "name": "python3"
  },
  "language_info": {
   "name": "python",
   "version": "3.8.5"
  },
  "orig_nbformat": 4,
  "vscode": {
   "interpreter": {
    "hash": "19ba88750d5950cdab8145798e3879c10b2f02c726cde54cc3979a1adebe1379"
   }
  }
 },
 "nbformat": 4,
 "nbformat_minor": 2
}
