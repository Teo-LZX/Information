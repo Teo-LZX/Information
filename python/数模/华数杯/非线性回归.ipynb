{
 "cells": [
  {
   "cell_type": "code",
   "execution_count": 221,
   "metadata": {},
   "outputs": [],
   "source": [
    "import numpy as np\n",
    "import pandas as pd\n",
    "import matplotlib.pyplot as plt\n",
    "from sklearn import linear_model\n",
    "from sklearn.preprocessing import PolynomialFeatures\n",
    "from sklearn.linear_model import LogisticRegression\n",
    "from sklearn.linear_model import LinearRegression\n",
    "from sklearn.metrics import r2_score,mean_squared_error,mean_absolute_error\n",
    "from sklearn.model_selection import train_test_split,cross_val_score\n",
    "from sklearn.pipeline import Pipeline\n",
    "from sklearn.preprocessing import StandardScaler\n",
    "\n",
    "X = np.array(pd.read_csv('./data1与data2的结合.csv', usecols=['热风速度(r/min)', '接收距离(cm)']))\n",
    "#接收距离 = np.array(pd.read_csv('./data1与data2的结合.csv', usecols=['接收距离(cm)']))\n",
    "# 透气性 = pd.read_csv('./data1与data2的结合.csv', usecols=['透气性 mm/s'])\n",
    "# 过滤效率 = pd.read_csv('./data1与data2的结合.csv', usecols=['过滤效率（%）'])\n",
    "# 过滤阻力 = pd.read_csv('./data1与data2的结合.csv', usecols=['过滤阻力Pa'])\n",
    "压缩回弹性率 = np.array(pd.read_csv('./data1与data2的结合.csv', usecols=['压缩回弹性率（%）']))\n",
    "孔隙率 = np.array(pd.read_csv('./data1与data2的结合.csv', usecols=['孔隙率（%）']))\n",
    "厚度 = np.array(pd.read_csv('./data1与data2的结合.csv', usecols=['厚度mm']))\n",
    "\n",
    "a = X[:,[0]]\n",
    "b = X[:,[1]]\n",
    "\n",
    "one = np.array([1]*25).reshape([25,1])\n",
    "\n",
    "# print(a, len(a))\n",
    "# print(b, len(b))\n",
    "# np.array([a,b]).reshape((a.shape[0],2))\n",
    "\n"
   ]
  },
  {
   "cell_type": "code",
   "execution_count": 235,
   "metadata": {},
   "outputs": [
    {
     "name": "stdout",
     "output_type": "stream",
     "text": [
      "(25, 2)\n",
      "(25, 6)\n",
      "0.9481101580249157\n",
      "0.010651254896085635\n",
      "[1.0e+00 8.0e+02 4.0e+01 6.4e+05 3.2e+04 1.6e+03] [2.81]\n",
      "参数： [[ 0.00000000e+00  9.27336516e-03  1.00744228e-02 -3.64084413e-06\n",
      "  -1.59780276e-06  7.83556776e-04]] [-3.9631572]\n"
     ]
    }
   ],
   "source": [
    "#使用degree=2的二次多项式则为（1，a, a^2, ab, b ,b^2)\n",
    "#degree=3, (1, a, b, a^2, a*b, b^2, a^3, a^2*b, a*b^2, b^3)\n",
    "\n",
    "lr = LinearRegression()\n",
    "poly = PolynomialFeatures(degree=2)\n",
    "poly.fit(X)\n",
    "X2 = poly.transform(X)\n",
    "print(X.shape)\n",
    "print(X2.shape)\n",
    "X_train, X_test, y_train, y_test = train_test_split(X2, 厚度, test_size=0.1)\n",
    "\n",
    "lr.fit(X_train, y_train)\n",
    "预测厚度 = lr.predict(X_test)\n",
    "print(r2_score(y_test, 预测厚度))\n",
    "print(mean_squared_error(y_test, 预测厚度))\n",
    "test = X_test[1]\n",
    "print(test, y_test[1])\n",
    "#print(lr.predict(test.reshape([1,10])))\n",
    "print(\"参数：\",lr.coef_, lr.intercept_)\n",
    "\n",
    "# poly_reg.fit(X_train, y_train)\n",
    "# # poly_reg.fit_transform(X_train)\n",
    "# # poly_reg.fit(X, 厚度)\n",
    "\n",
    "# 预测厚度 = poly_reg.predict(X_test)\n",
    "# #print(预测厚度)\n",
    "# print(r2_score(y_test, 预测厚度))          # 回归评价，模型越好：r2→1；模型越差：r2→0\n",
    "# print(mean_squared_error(y_test, 预测厚度))"
   ]
  },
  {
   "cell_type": "code",
   "execution_count": 135,
   "metadata": {},
   "outputs": [
    {
     "name": "stdout",
     "output_type": "stream",
     "text": [
      "(25, 6)\n"
     ]
    },
    {
     "data": {
      "text/plain": [
       "(25, 28)"
      ]
     },
     "execution_count": 135,
     "metadata": {},
     "output_type": "execute_result"
    }
   ],
   "source": [
    "print(c.shape)\n",
    "PolynomialFeatures(degree=2).fit_transform(c).shape"
   ]
  },
  {
   "cell_type": "code",
   "execution_count": 199,
   "metadata": {},
   "outputs": [
    {
     "name": "stdout",
     "output_type": "stream",
     "text": [
      "-3.7249404379404902\n",
      "0.31006109140529886\n",
      "[1.000e+00 1.200e+03 3.000e+01 1.440e+06 3.600e+04 9.000e+02 1.728e+09\n",
      " 4.320e+07 1.080e+06 2.700e+04] [96.17]\n",
      "[[96.63511067]]\n"
     ]
    }
   ],
   "source": [
    "X_train, X_test, y_train, y_test = train_test_split(X2, 孔隙率, test_size=0.1)\n",
    "\n",
    "lr.fit(X_train, y_train)\n",
    "预测孔隙率 = lr.predict(X_test)\n",
    "print(r2_score(y_test, 预测孔隙率))\n",
    "print(mean_squared_error(y_test, 预测孔隙率))\n",
    "test = X_test[1]\n",
    "print(test, y_test[1])\n",
    "print(lr.predict(test.reshape([1,10])))"
   ]
  },
  {
   "cell_type": "code",
   "execution_count": 225,
   "metadata": {},
   "outputs": [
    {
     "name": "stdout",
     "output_type": "stream",
     "text": [
      "-6.519299294582085 [-16.31267543 -10.25781671  -4.42383707  -5.88034928  -5.19030207\n",
      "  -2.63074117  -6.17414793  -5.20210737  -4.01098062  -5.11003528]\n"
     ]
    }
   ],
   "source": [
    "# X_train, X_test, y_train, y_test = train_test_split(X2, 压缩回弹性率, test_size=0.1)\n",
    "\n",
    "e=cross_val_score(lr,X2,压缩回弹性率,scoring='neg_mean_absolute_error',cv=10)\n",
    "print(np.mean(e),e)\n",
    "# lr.fit(X_train, y_train)\n",
    "# 预测压缩回弹性率 = lr.predict(X_test)\n",
    "\n",
    "# print(r2_score(y_test, 预测压缩回弹性率))    # R2\n",
    "# print(mean_squared_error(y_test, 预测压缩回弹性率))   #均方误差\n",
    "# print(mean_absolute_error(y_test, 预测压缩回弹性率))  #平均绝对误差\n",
    "# test = X_test[1]\n",
    "# print(test, y_test[1])\n",
    "# print(lr.predict(test.reshape([1,10])))"
   ]
  }
 ],
 "metadata": {
  "kernelspec": {
   "display_name": "Python 3.8.5 64-bit",
   "language": "python",
   "name": "python3"
  },
  "language_info": {
   "codemirror_mode": {
    "name": "ipython",
    "version": 3
   },
   "file_extension": ".py",
   "mimetype": "text/x-python",
   "name": "python",
   "nbconvert_exporter": "python",
   "pygments_lexer": "ipython3",
   "version": "3.8.5"
  },
  "orig_nbformat": 4,
  "vscode": {
   "interpreter": {
    "hash": "19ba88750d5950cdab8145798e3879c10b2f02c726cde54cc3979a1adebe1379"
   }
  }
 },
 "nbformat": 4,
 "nbformat_minor": 2
}
