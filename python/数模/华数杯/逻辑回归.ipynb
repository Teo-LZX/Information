{
 "cells": [
  {
   "cell_type": "code",
   "execution_count": 5,
   "metadata": {},
   "outputs": [],
   "source": [
    "import numpy as np\n",
    "import pandas as pd\n",
    "import matplotlib.pyplot as plt\n",
    "from sklearn import linear_model\n",
    "from sklearn.linear_model import LogisticRegression\n",
    "from sklearn.metrics import r2_score\n",
    "\n",
    "X = np.array(pd.read_csv('./data1与data2的结合.csv', usecols=['热风速度(r/min)', '接收距离(cm)']))\n",
    "#接收距离 = np.array(pd.read_csv('./data1与data2的结合.csv', usecols=['接收距离(cm)']))\n",
    "# 透气性 = pd.read_csv('./data1与data2的结合.csv', usecols=['透气性 mm/s'])\n",
    "# 过滤效率 = pd.read_csv('./data1与data2的结合.csv', usecols=['过滤效率（%）'])\n",
    "# 过滤阻力 = pd.read_csv('./data1与data2的结合.csv', usecols=['过滤阻力Pa'])\n",
    "压缩回弹性率 = np.array(pd.read_csv('./data1与data2的结合.csv', usecols=['压缩回弹性率（%）']))\n",
    "孔隙率 = np.array(pd.read_csv('./data1与data2的结合.csv', usecols=['孔隙率（%）']))\n",
    "厚度 = np.array(pd.read_csv('./data1与data2的结合.csv', usecols=['厚度mm']))"
   ]
  },
  {
   "cell_type": "code",
   "execution_count": 7,
   "metadata": {},
   "outputs": [],
   "source": [
    "classifier = LogisticRegression()\n",
    "#classifier.fit(X, 厚度)\n",
    "#预测厚度 = classifier.predict(X)\n",
    "#print(r2_score(厚度, 预测厚度))          # 回归评价，模型越好：r2→1；模型越差：r2→0"
   ]
  }
 ],
 "metadata": {
  "kernelspec": {
   "display_name": "Python 3.8.5 64-bit",
   "language": "python",
   "name": "python3"
  },
  "language_info": {
   "codemirror_mode": {
    "name": "ipython",
    "version": 3
   },
   "file_extension": ".py",
   "mimetype": "text/x-python",
   "name": "python",
   "nbconvert_exporter": "python",
   "pygments_lexer": "ipython3",
   "version": "3.8.5"
  },
  "orig_nbformat": 4,
  "vscode": {
   "interpreter": {
    "hash": "19ba88750d5950cdab8145798e3879c10b2f02c726cde54cc3979a1adebe1379"
   }
  }
 },
 "nbformat": 4,
 "nbformat_minor": 2
}
