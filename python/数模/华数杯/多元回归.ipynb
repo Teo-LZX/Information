{
 "cells": [
  {
   "cell_type": "code",
   "execution_count": 21,
   "metadata": {},
   "outputs": [],
   "source": [
    "import numpy as np\n",
    "import pandas as pd\n",
    "import matplotlib.pyplot as plt\n",
    "from sklearn import linear_model\n",
    "from sklearn.linear_model import LogisticRegression\n",
    "from sklearn.metrics import r2_score\n",
    "\n",
    "X = np.array(pd.read_csv('./data1与data2的结合.csv', usecols=['热风速度(r/min)', '接收距离(cm)']))\n",
    "#接收距离 = np.array(pd.read_csv('./data1与data2的结合.csv', usecols=['接收距离(cm)']))\n",
    "# 透气性 = pd.read_csv('./data1与data2的结合.csv', usecols=['透气性 mm/s'])\n",
    "# 过滤效率 = pd.read_csv('./data1与data2的结合.csv', usecols=['过滤效率（%）'])\n",
    "# 过滤阻力 = pd.read_csv('./data1与data2的结合.csv', usecols=['过滤阻力Pa'])\n",
    "压缩回弹性率 = np.array(pd.read_csv('./data1与data2的结合.csv', usecols=['压缩回弹性率（%）']))\n",
    "孔隙率 = np.array(pd.read_csv('./data1与data2的结合.csv', usecols=['孔隙率（%）']))\n",
    "厚度 = np.array(pd.read_csv('./data1与data2的结合.csv', usecols=['厚度mm']))\n",
    "\n",
    "#print(X)"
   ]
  },
  {
   "cell_type": "code",
   "execution_count": 25,
   "metadata": {},
   "outputs": [
    {
     "name": "stdout",
     "output_type": "stream",
     "text": [
      "[[0.001842 0.05432 ]] [-0.8642]\n",
      "0.7445495254210761\n"
     ]
    }
   ],
   "source": [
    "reg = linear_model.LinearRegression()\n",
    "model1 = reg.fit(X, 厚度)\n",
    "预测厚度 = reg.predict(X)\n",
    "print(reg.coef_, reg.intercept_)         #参数，截距\n",
    "print(r2_score(厚度, 预测厚度))          # 回归评价，模型越好：r2→1；模型越差：r2→0\n"
   ]
  },
  {
   "cell_type": "code",
   "execution_count": 27,
   "metadata": {},
   "outputs": [
    {
     "name": "stdout",
     "output_type": "stream",
     "text": [
      "[[0.003196 0.08932 ]] [89.9856]\n",
      "0.745591553217796\n"
     ]
    }
   ],
   "source": [
    "model2 = reg.fit(X, 孔隙率)\n",
    "预测孔隙率 = reg.predict(X)\n",
    "print(reg.coef_, reg.intercept_)      #参数，截距\n",
    "print(r2_score(孔隙率, 预测孔隙率))     # 回归评价，模型越好：r2→1；模型越差：r2→0"
   ]
  },
  {
   "cell_type": "code",
   "execution_count": 28,
   "metadata": {},
   "outputs": [
    {
     "name": "stdout",
     "output_type": "stream",
     "text": [
      "[[-0.002854 -0.07276 ]] [91.6596]\n",
      "0.02266312438739604\n"
     ]
    }
   ],
   "source": [
    "model3 = reg.fit(X, 压缩回弹性率)\n",
    "预测弹性率 = reg.predict(X)\n",
    "print(reg.coef_, reg.intercept_)           #参数，截距\n",
    "print(r2_score(压缩回弹性率, 预测弹性率))     # 回归评价，模型越好：r2→1；模型越差：r2→0"
   ]
  },
  {
   "cell_type": "markdown",
   "metadata": {},
   "source": [
    "热风速度x1   接收距离x2\n",
    "厚度 = 0.001842*x1 + 0.05432*x2 - 0.8642\n",
    "孔隙率 = 0.003196*x1 + 0.08932*x2 + 89.9856\n",
    "压缩回弹性率 = -0.002854*x1 + -0.07276*x2 + 91.6596\n"
   ]
  }
 ],
 "metadata": {
  "kernelspec": {
   "display_name": "Python 3.8.5 64-bit",
   "language": "python",
   "name": "python3"
  },
  "language_info": {
   "codemirror_mode": {
    "name": "ipython",
    "version": 3
   },
   "file_extension": ".py",
   "mimetype": "text/x-python",
   "name": "python",
   "nbconvert_exporter": "python",
   "pygments_lexer": "ipython3",
   "version": "3.8.5"
  },
  "orig_nbformat": 4,
  "vscode": {
   "interpreter": {
    "hash": "19ba88750d5950cdab8145798e3879c10b2f02c726cde54cc3979a1adebe1379"
   }
  }
 },
 "nbformat": 4,
 "nbformat_minor": 2
}
